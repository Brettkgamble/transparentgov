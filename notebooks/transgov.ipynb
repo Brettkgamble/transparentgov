{
 "cells": [
  {
   "cell_type": "code",
   "execution_count": 13,
   "metadata": {
    "pycharm": {
     "is_executing": true
    }
   },
   "outputs": [],
   "source": [
    "import requests\n",
    "import datetime\n",
    "import os\n",
    "import csv\n",
    "import pandas as pd\n",
    "# from os import environ\n",
    "from sqlalchemy import MetaData, create_engine, asc\n",
    "from sqlalchemy.orm import sessionmaker\n",
    "from sqlalchemy.exc import SQLAlchemyError\n",
    "\n",
    "import psycopg2\n",
    "from psycopg2 import Error\n",
    "\n",
    "from flask import Flask, jsonify, request\n",
    "from flask_cors import cross_origin, CORS\n",
    "from models.models import Base\n",
    "\n",
    "from models.models import ExpensesRaw\n",
    "# from endpointClasses.resources import Resources\n",
    "#\n",
    "from sqlalchemy import Column, Integer, BigInteger, String, Text, DateTime, \\\n",
    "    Float, Boolean, func, ForeignKeyConstraint, Index, ForeignKey\n",
    "from sqlalchemy.ext.declarative import declarative_base\n",
    "from sqlalchemy.orm import relationship, backref\n",
    "from sqlalchemy.ext.hybrid import hybrid_property, hybrid_method\n",
    "from datetime import datetime, timedelta, timezone\n",
    "from geoalchemy2 import Geography, Geometry\n"
   ]
  },
  {
   "cell_type": "code",
   "execution_count": 2,
   "metadata": {},
   "outputs": [
    {
     "data": {
      "text/plain": [
       "<flask_cors.extension.CORS at 0x1b25801ce80>"
      ]
     },
     "execution_count": 2,
     "metadata": {},
     "output_type": "execute_result"
    }
   ],
   "source": [
    "### Setup the application\n",
    "app = Flask(__name__)\n",
    "\n",
    "# Wrap CORS around the app so that the server does not block machine to machine\n",
    "# or browser based requests\n",
    "CORS(app)"
   ]
  },
  {
   "cell_type": "code",
   "execution_count": 3,
   "metadata": {},
   "outputs": [],
   "source": [
    "# Engine below for Google Cloud PostgreSQL access.\n",
    "engine = create_engine('postgresql+psycopg2://postgres:5413CrossFit2018@34'\n",
    "                       '.70.40.80/transgov')\n",
    "\n",
    "Base.metadata.create_all(engine)\n",
    "\n",
    "Session = sessionmaker(bind=engine)\n",
    "session = Session()"
   ]
  },
  {
   "cell_type": "code",
   "execution_count": 4,
   "metadata": {},
   "outputs": [],
   "source": [
    "col_names = [\"Ministry\", \"Position\", \"Name\", \"Type\", \"Category\", \"Date\", \"Amount\",\n",
    "         \"Description\", \"Receipt 1\", \"Receipt 2\", \"Receipt 3\"]"
   ]
  },
  {
   "cell_type": "code",
   "execution_count": 16,
   "metadata": {},
   "outputs": [
    {
     "name": "stdout",
     "output_type": "stream",
     "text": [
      "Downloading .....\n",
      "Saving to CSV ...\n",
      "done...\n"
     ]
    }
   ],
   "source": [
    "# download  csv file\n",
    "# Only do this once per day\n",
    "print('Downloading .....')\n",
    "df = pd.read_csv(r'https://expenses.alberta.ca/DownloadData.aspx?type=csv'\n",
    "                   r'&d=IsVE/OcdpNZJ5rBbvji3qw', names=col_names,\n",
    "                     low_memory=False, parse_dates=['Date'])\n",
    "\n",
    "# Saving the dataframe\n",
    "print('Saving to CSV ...')\n",
    "df.to_csv('expenses.csv')\n",
    "print('done...')"
   ]
  },
  {
   "cell_type": "code",
   "execution_count": 38,
   "metadata": {},
   "outputs": [
    {
     "name": "stdout",
     "output_type": "stream",
     "text": [
      "Reading from file...\n",
      "Done...\n"
     ]
    }
   ],
   "source": [
    "print('Reading from file...')\n",
    "df=pd.read_csv('expenses.csv', names=col_names, low_memory=False, skiprows=2)\n",
    "print('Done...')"
   ]
  },
  {
   "cell_type": "code",
   "execution_count": 39,
   "metadata": {},
   "outputs": [
    {
     "name": "stdout",
     "output_type": "stream",
     "text": [
      "Count: 0 of 536436 \n",
      "Could not save the new expense %s ExpensesRaw(id='None' , ministry='Agriculture and Rural Development' , position='Executive Director' , name='Munroe,Clifford' , type='Travel' , expense_date='2012-10-10 00:00:00' , amount='20.75' , description='Counter Terrorism Seminar: Dinner allowance' , receipt1='nan' , receipt2='nan' , receipt3='nan' , date_last_found='2021-01-28 09:54:28.737624' , created_at='2021-01-28 09:54:28.737624' , updated_at='2021-01-28 09:54:28.737624')\n",
      "Count: 100 of 536436 \n",
      "Count: 200 of 536436 \n",
      "Count: 300 of 536436 \n",
      "Count: 400 of 536436 \n",
      "Count: 500 of 536436 \n",
      "Count: 600 of 536436 \n",
      "Count: 700 of 536436 \n",
      "Count: 800 of 536436 \n",
      "Count: 900 of 536436 \n",
      "Count: 1000 of 536436 \n",
      "Count: 1100 of 536436 \n"
     ]
    },
    {
     "ename": "KeyboardInterrupt",
     "evalue": "",
     "output_type": "error",
     "traceback": [
      "\u001B[1;31m---------------------------------------------------------------------------\u001B[0m",
      "\u001B[1;31mKeyboardInterrupt\u001B[0m                         Traceback (most recent call last)",
      "\u001B[1;32m<ipython-input-39-5ed02384f832>\u001B[0m in \u001B[0;36m<module>\u001B[1;34m\u001B[0m\n\u001B[0;32m     36\u001B[0m     \u001B[1;32mtry\u001B[0m\u001B[1;33m:\u001B[0m\u001B[1;33m\u001B[0m\u001B[1;33m\u001B[0m\u001B[0m\n\u001B[0;32m     37\u001B[0m         \u001B[0msession\u001B[0m\u001B[1;33m.\u001B[0m\u001B[0madd\u001B[0m\u001B[1;33m(\u001B[0m\u001B[0mexpense\u001B[0m\u001B[1;33m)\u001B[0m\u001B[1;33m\u001B[0m\u001B[1;33m\u001B[0m\u001B[0m\n\u001B[1;32m---> 38\u001B[1;33m         \u001B[0msession\u001B[0m\u001B[1;33m.\u001B[0m\u001B[0mcommit\u001B[0m\u001B[1;33m(\u001B[0m\u001B[1;33m)\u001B[0m\u001B[1;33m\u001B[0m\u001B[1;33m\u001B[0m\u001B[0m\n\u001B[0m\u001B[0;32m     39\u001B[0m     \u001B[1;32mexcept\u001B[0m \u001B[0mSQLAlchemyError\u001B[0m \u001B[1;32mas\u001B[0m \u001B[0me\u001B[0m\u001B[1;33m:\u001B[0m\u001B[1;33m\u001B[0m\u001B[1;33m\u001B[0m\u001B[0m\n\u001B[0;32m     40\u001B[0m \u001B[1;31m#         error = str(e.__dict__['orig'])\u001B[0m\u001B[1;33m\u001B[0m\u001B[1;33m\u001B[0m\u001B[1;33m\u001B[0m\u001B[0m\n",
      "\u001B[1;32mc:\\python38\\lib\\site-packages\\sqlalchemy\\orm\\session.py\u001B[0m in \u001B[0;36mcommit\u001B[1;34m(self)\u001B[0m\n\u001B[0;32m   1040\u001B[0m                 \u001B[1;32mraise\u001B[0m \u001B[0msa_exc\u001B[0m\u001B[1;33m.\u001B[0m\u001B[0mInvalidRequestError\u001B[0m\u001B[1;33m(\u001B[0m\u001B[1;34m\"No transaction is begun.\"\u001B[0m\u001B[1;33m)\u001B[0m\u001B[1;33m\u001B[0m\u001B[1;33m\u001B[0m\u001B[0m\n\u001B[0;32m   1041\u001B[0m \u001B[1;33m\u001B[0m\u001B[0m\n\u001B[1;32m-> 1042\u001B[1;33m         \u001B[0mself\u001B[0m\u001B[1;33m.\u001B[0m\u001B[0mtransaction\u001B[0m\u001B[1;33m.\u001B[0m\u001B[0mcommit\u001B[0m\u001B[1;33m(\u001B[0m\u001B[1;33m)\u001B[0m\u001B[1;33m\u001B[0m\u001B[1;33m\u001B[0m\u001B[0m\n\u001B[0m\u001B[0;32m   1043\u001B[0m \u001B[1;33m\u001B[0m\u001B[0m\n\u001B[0;32m   1044\u001B[0m     \u001B[1;32mdef\u001B[0m \u001B[0mprepare\u001B[0m\u001B[1;33m(\u001B[0m\u001B[0mself\u001B[0m\u001B[1;33m)\u001B[0m\u001B[1;33m:\u001B[0m\u001B[1;33m\u001B[0m\u001B[1;33m\u001B[0m\u001B[0m\n",
      "\u001B[1;32mc:\\python38\\lib\\site-packages\\sqlalchemy\\orm\\session.py\u001B[0m in \u001B[0;36mcommit\u001B[1;34m(self)\u001B[0m\n\u001B[0;32m    502\u001B[0m         \u001B[0mself\u001B[0m\u001B[1;33m.\u001B[0m\u001B[0m_assert_active\u001B[0m\u001B[1;33m(\u001B[0m\u001B[0mprepared_ok\u001B[0m\u001B[1;33m=\u001B[0m\u001B[1;32mTrue\u001B[0m\u001B[1;33m)\u001B[0m\u001B[1;33m\u001B[0m\u001B[1;33m\u001B[0m\u001B[0m\n\u001B[0;32m    503\u001B[0m         \u001B[1;32mif\u001B[0m \u001B[0mself\u001B[0m\u001B[1;33m.\u001B[0m\u001B[0m_state\u001B[0m \u001B[1;32mis\u001B[0m \u001B[1;32mnot\u001B[0m \u001B[0mPREPARED\u001B[0m\u001B[1;33m:\u001B[0m\u001B[1;33m\u001B[0m\u001B[1;33m\u001B[0m\u001B[0m\n\u001B[1;32m--> 504\u001B[1;33m             \u001B[0mself\u001B[0m\u001B[1;33m.\u001B[0m\u001B[0m_prepare_impl\u001B[0m\u001B[1;33m(\u001B[0m\u001B[1;33m)\u001B[0m\u001B[1;33m\u001B[0m\u001B[1;33m\u001B[0m\u001B[0m\n\u001B[0m\u001B[0;32m    505\u001B[0m \u001B[1;33m\u001B[0m\u001B[0m\n\u001B[0;32m    506\u001B[0m         \u001B[1;32mif\u001B[0m \u001B[0mself\u001B[0m\u001B[1;33m.\u001B[0m\u001B[0m_parent\u001B[0m \u001B[1;32mis\u001B[0m \u001B[1;32mNone\u001B[0m \u001B[1;32mor\u001B[0m \u001B[0mself\u001B[0m\u001B[1;33m.\u001B[0m\u001B[0mnested\u001B[0m\u001B[1;33m:\u001B[0m\u001B[1;33m\u001B[0m\u001B[1;33m\u001B[0m\u001B[0m\n",
      "\u001B[1;32mc:\\python38\\lib\\site-packages\\sqlalchemy\\orm\\session.py\u001B[0m in \u001B[0;36m_prepare_impl\u001B[1;34m(self)\u001B[0m\n\u001B[0;32m    481\u001B[0m                 \u001B[1;32mif\u001B[0m \u001B[0mself\u001B[0m\u001B[1;33m.\u001B[0m\u001B[0msession\u001B[0m\u001B[1;33m.\u001B[0m\u001B[0m_is_clean\u001B[0m\u001B[1;33m(\u001B[0m\u001B[1;33m)\u001B[0m\u001B[1;33m:\u001B[0m\u001B[1;33m\u001B[0m\u001B[1;33m\u001B[0m\u001B[0m\n\u001B[0;32m    482\u001B[0m                     \u001B[1;32mbreak\u001B[0m\u001B[1;33m\u001B[0m\u001B[1;33m\u001B[0m\u001B[0m\n\u001B[1;32m--> 483\u001B[1;33m                 \u001B[0mself\u001B[0m\u001B[1;33m.\u001B[0m\u001B[0msession\u001B[0m\u001B[1;33m.\u001B[0m\u001B[0mflush\u001B[0m\u001B[1;33m(\u001B[0m\u001B[1;33m)\u001B[0m\u001B[1;33m\u001B[0m\u001B[1;33m\u001B[0m\u001B[0m\n\u001B[0m\u001B[0;32m    484\u001B[0m             \u001B[1;32melse\u001B[0m\u001B[1;33m:\u001B[0m\u001B[1;33m\u001B[0m\u001B[1;33m\u001B[0m\u001B[0m\n\u001B[0;32m    485\u001B[0m                 raise exc.FlushError(\n",
      "\u001B[1;32mc:\\python38\\lib\\site-packages\\sqlalchemy\\orm\\session.py\u001B[0m in \u001B[0;36mflush\u001B[1;34m(self, objects)\u001B[0m\n\u001B[0;32m   2521\u001B[0m         \u001B[1;32mtry\u001B[0m\u001B[1;33m:\u001B[0m\u001B[1;33m\u001B[0m\u001B[1;33m\u001B[0m\u001B[0m\n\u001B[0;32m   2522\u001B[0m             \u001B[0mself\u001B[0m\u001B[1;33m.\u001B[0m\u001B[0m_flushing\u001B[0m \u001B[1;33m=\u001B[0m \u001B[1;32mTrue\u001B[0m\u001B[1;33m\u001B[0m\u001B[1;33m\u001B[0m\u001B[0m\n\u001B[1;32m-> 2523\u001B[1;33m             \u001B[0mself\u001B[0m\u001B[1;33m.\u001B[0m\u001B[0m_flush\u001B[0m\u001B[1;33m(\u001B[0m\u001B[0mobjects\u001B[0m\u001B[1;33m)\u001B[0m\u001B[1;33m\u001B[0m\u001B[1;33m\u001B[0m\u001B[0m\n\u001B[0m\u001B[0;32m   2524\u001B[0m         \u001B[1;32mfinally\u001B[0m\u001B[1;33m:\u001B[0m\u001B[1;33m\u001B[0m\u001B[1;33m\u001B[0m\u001B[0m\n\u001B[0;32m   2525\u001B[0m             \u001B[0mself\u001B[0m\u001B[1;33m.\u001B[0m\u001B[0m_flushing\u001B[0m \u001B[1;33m=\u001B[0m \u001B[1;32mFalse\u001B[0m\u001B[1;33m\u001B[0m\u001B[1;33m\u001B[0m\u001B[0m\n",
      "\u001B[1;32mc:\\python38\\lib\\site-packages\\sqlalchemy\\orm\\session.py\u001B[0m in \u001B[0;36m_flush\u001B[1;34m(self, objects)\u001B[0m\n\u001B[0;32m   2662\u001B[0m         \u001B[1;32mexcept\u001B[0m\u001B[1;33m:\u001B[0m\u001B[1;33m\u001B[0m\u001B[1;33m\u001B[0m\u001B[0m\n\u001B[0;32m   2663\u001B[0m             \u001B[1;32mwith\u001B[0m \u001B[0mutil\u001B[0m\u001B[1;33m.\u001B[0m\u001B[0msafe_reraise\u001B[0m\u001B[1;33m(\u001B[0m\u001B[1;33m)\u001B[0m\u001B[1;33m:\u001B[0m\u001B[1;33m\u001B[0m\u001B[1;33m\u001B[0m\u001B[0m\n\u001B[1;32m-> 2664\u001B[1;33m                 \u001B[0mtransaction\u001B[0m\u001B[1;33m.\u001B[0m\u001B[0mrollback\u001B[0m\u001B[1;33m(\u001B[0m\u001B[0m_capture_exception\u001B[0m\u001B[1;33m=\u001B[0m\u001B[1;32mTrue\u001B[0m\u001B[1;33m)\u001B[0m\u001B[1;33m\u001B[0m\u001B[1;33m\u001B[0m\u001B[0m\n\u001B[0m\u001B[0;32m   2665\u001B[0m \u001B[1;33m\u001B[0m\u001B[0m\n\u001B[0;32m   2666\u001B[0m     def bulk_save_objects(\n",
      "\u001B[1;32mc:\\python38\\lib\\site-packages\\sqlalchemy\\util\\langhelpers.py\u001B[0m in \u001B[0;36m__exit__\u001B[1;34m(self, type_, value, traceback)\u001B[0m\n\u001B[0;32m     66\u001B[0m             \u001B[0mself\u001B[0m\u001B[1;33m.\u001B[0m\u001B[0m_exc_info\u001B[0m \u001B[1;33m=\u001B[0m \u001B[1;32mNone\u001B[0m  \u001B[1;31m# remove potential circular references\u001B[0m\u001B[1;33m\u001B[0m\u001B[1;33m\u001B[0m\u001B[0m\n\u001B[0;32m     67\u001B[0m             \u001B[1;32mif\u001B[0m \u001B[1;32mnot\u001B[0m \u001B[0mself\u001B[0m\u001B[1;33m.\u001B[0m\u001B[0mwarn_only\u001B[0m\u001B[1;33m:\u001B[0m\u001B[1;33m\u001B[0m\u001B[1;33m\u001B[0m\u001B[0m\n\u001B[1;32m---> 68\u001B[1;33m                 compat.raise_(\n\u001B[0m\u001B[0;32m     69\u001B[0m                     \u001B[0mexc_value\u001B[0m\u001B[1;33m,\u001B[0m \u001B[0mwith_traceback\u001B[0m\u001B[1;33m=\u001B[0m\u001B[0mexc_tb\u001B[0m\u001B[1;33m,\u001B[0m\u001B[1;33m\u001B[0m\u001B[1;33m\u001B[0m\u001B[0m\n\u001B[0;32m     70\u001B[0m                 )\n",
      "\u001B[1;32mc:\\python38\\lib\\site-packages\\sqlalchemy\\util\\compat.py\u001B[0m in \u001B[0;36mraise_\u001B[1;34m(***failed resolving arguments***)\u001B[0m\n\u001B[0;32m    180\u001B[0m \u001B[1;33m\u001B[0m\u001B[0m\n\u001B[0;32m    181\u001B[0m         \u001B[1;32mtry\u001B[0m\u001B[1;33m:\u001B[0m\u001B[1;33m\u001B[0m\u001B[1;33m\u001B[0m\u001B[0m\n\u001B[1;32m--> 182\u001B[1;33m             \u001B[1;32mraise\u001B[0m \u001B[0mexception\u001B[0m\u001B[1;33m\u001B[0m\u001B[1;33m\u001B[0m\u001B[0m\n\u001B[0m\u001B[0;32m    183\u001B[0m         \u001B[1;32mfinally\u001B[0m\u001B[1;33m:\u001B[0m\u001B[1;33m\u001B[0m\u001B[1;33m\u001B[0m\u001B[0m\n\u001B[0;32m    184\u001B[0m             \u001B[1;31m# credit to\u001B[0m\u001B[1;33m\u001B[0m\u001B[1;33m\u001B[0m\u001B[1;33m\u001B[0m\u001B[0m\n",
      "\u001B[1;32mc:\\python38\\lib\\site-packages\\sqlalchemy\\orm\\session.py\u001B[0m in \u001B[0;36m_flush\u001B[1;34m(self, objects)\u001B[0m\n\u001B[0;32m   2622\u001B[0m             \u001B[0mself\u001B[0m\u001B[1;33m.\u001B[0m\u001B[0m_warn_on_events\u001B[0m \u001B[1;33m=\u001B[0m \u001B[1;32mTrue\u001B[0m\u001B[1;33m\u001B[0m\u001B[1;33m\u001B[0m\u001B[0m\n\u001B[0;32m   2623\u001B[0m             \u001B[1;32mtry\u001B[0m\u001B[1;33m:\u001B[0m\u001B[1;33m\u001B[0m\u001B[1;33m\u001B[0m\u001B[0m\n\u001B[1;32m-> 2624\u001B[1;33m                 \u001B[0mflush_context\u001B[0m\u001B[1;33m.\u001B[0m\u001B[0mexecute\u001B[0m\u001B[1;33m(\u001B[0m\u001B[1;33m)\u001B[0m\u001B[1;33m\u001B[0m\u001B[1;33m\u001B[0m\u001B[0m\n\u001B[0m\u001B[0;32m   2625\u001B[0m             \u001B[1;32mfinally\u001B[0m\u001B[1;33m:\u001B[0m\u001B[1;33m\u001B[0m\u001B[1;33m\u001B[0m\u001B[0m\n\u001B[0;32m   2626\u001B[0m                 \u001B[0mself\u001B[0m\u001B[1;33m.\u001B[0m\u001B[0m_warn_on_events\u001B[0m \u001B[1;33m=\u001B[0m \u001B[1;32mFalse\u001B[0m\u001B[1;33m\u001B[0m\u001B[1;33m\u001B[0m\u001B[0m\n",
      "\u001B[1;32mc:\\python38\\lib\\site-packages\\sqlalchemy\\orm\\unitofwork.py\u001B[0m in \u001B[0;36mexecute\u001B[1;34m(self)\u001B[0m\n\u001B[0;32m    420\u001B[0m         \u001B[1;32melse\u001B[0m\u001B[1;33m:\u001B[0m\u001B[1;33m\u001B[0m\u001B[1;33m\u001B[0m\u001B[0m\n\u001B[0;32m    421\u001B[0m             \u001B[1;32mfor\u001B[0m \u001B[0mrec\u001B[0m \u001B[1;32min\u001B[0m \u001B[0mtopological\u001B[0m\u001B[1;33m.\u001B[0m\u001B[0msort\u001B[0m\u001B[1;33m(\u001B[0m\u001B[0mself\u001B[0m\u001B[1;33m.\u001B[0m\u001B[0mdependencies\u001B[0m\u001B[1;33m,\u001B[0m \u001B[0mpostsort_actions\u001B[0m\u001B[1;33m)\u001B[0m\u001B[1;33m:\u001B[0m\u001B[1;33m\u001B[0m\u001B[1;33m\u001B[0m\u001B[0m\n\u001B[1;32m--> 422\u001B[1;33m                 \u001B[0mrec\u001B[0m\u001B[1;33m.\u001B[0m\u001B[0mexecute\u001B[0m\u001B[1;33m(\u001B[0m\u001B[0mself\u001B[0m\u001B[1;33m)\u001B[0m\u001B[1;33m\u001B[0m\u001B[1;33m\u001B[0m\u001B[0m\n\u001B[0m\u001B[0;32m    423\u001B[0m \u001B[1;33m\u001B[0m\u001B[0m\n\u001B[0;32m    424\u001B[0m     \u001B[1;32mdef\u001B[0m \u001B[0mfinalize_flush_changes\u001B[0m\u001B[1;33m(\u001B[0m\u001B[0mself\u001B[0m\u001B[1;33m)\u001B[0m\u001B[1;33m:\u001B[0m\u001B[1;33m\u001B[0m\u001B[1;33m\u001B[0m\u001B[0m\n",
      "\u001B[1;32mc:\\python38\\lib\\site-packages\\sqlalchemy\\orm\\unitofwork.py\u001B[0m in \u001B[0;36mexecute\u001B[1;34m(self, uow)\u001B[0m\n\u001B[0;32m    584\u001B[0m \u001B[1;33m\u001B[0m\u001B[0m\n\u001B[0;32m    585\u001B[0m     \u001B[1;32mdef\u001B[0m \u001B[0mexecute\u001B[0m\u001B[1;33m(\u001B[0m\u001B[0mself\u001B[0m\u001B[1;33m,\u001B[0m \u001B[0muow\u001B[0m\u001B[1;33m)\u001B[0m\u001B[1;33m:\u001B[0m\u001B[1;33m\u001B[0m\u001B[1;33m\u001B[0m\u001B[0m\n\u001B[1;32m--> 586\u001B[1;33m         persistence.save_obj(\n\u001B[0m\u001B[0;32m    587\u001B[0m             \u001B[0mself\u001B[0m\u001B[1;33m.\u001B[0m\u001B[0mmapper\u001B[0m\u001B[1;33m,\u001B[0m\u001B[1;33m\u001B[0m\u001B[1;33m\u001B[0m\u001B[0m\n\u001B[0;32m    588\u001B[0m             \u001B[0muow\u001B[0m\u001B[1;33m.\u001B[0m\u001B[0mstates_for_mapper_hierarchy\u001B[0m\u001B[1;33m(\u001B[0m\u001B[0mself\u001B[0m\u001B[1;33m.\u001B[0m\u001B[0mmapper\u001B[0m\u001B[1;33m,\u001B[0m \u001B[1;32mFalse\u001B[0m\u001B[1;33m,\u001B[0m \u001B[1;32mFalse\u001B[0m\u001B[1;33m)\u001B[0m\u001B[1;33m,\u001B[0m\u001B[1;33m\u001B[0m\u001B[1;33m\u001B[0m\u001B[0m\n",
      "\u001B[1;32mc:\\python38\\lib\\site-packages\\sqlalchemy\\orm\\persistence.py\u001B[0m in \u001B[0;36msave_obj\u001B[1;34m(base_mapper, states, uowtransaction, single)\u001B[0m\n\u001B[0;32m    237\u001B[0m         )\n\u001B[0;32m    238\u001B[0m \u001B[1;33m\u001B[0m\u001B[0m\n\u001B[1;32m--> 239\u001B[1;33m         _emit_insert_statements(\n\u001B[0m\u001B[0;32m    240\u001B[0m             \u001B[0mbase_mapper\u001B[0m\u001B[1;33m,\u001B[0m\u001B[1;33m\u001B[0m\u001B[1;33m\u001B[0m\u001B[0m\n\u001B[0;32m    241\u001B[0m             \u001B[0muowtransaction\u001B[0m\u001B[1;33m,\u001B[0m\u001B[1;33m\u001B[0m\u001B[1;33m\u001B[0m\u001B[0m\n",
      "\u001B[1;32mc:\\python38\\lib\\site-packages\\sqlalchemy\\orm\\persistence.py\u001B[0m in \u001B[0;36m_emit_insert_statements\u001B[1;34m(base_mapper, uowtransaction, cached_connections, mapper, table, insert, bookkeeping)\u001B[0m\n\u001B[0;32m   1133\u001B[0m                     )\n\u001B[0;32m   1134\u001B[0m                 \u001B[1;32melse\u001B[0m\u001B[1;33m:\u001B[0m\u001B[1;33m\u001B[0m\u001B[1;33m\u001B[0m\u001B[0m\n\u001B[1;32m-> 1135\u001B[1;33m                     result = cached_connections[connection].execute(\n\u001B[0m\u001B[0;32m   1136\u001B[0m                         \u001B[0mstatement\u001B[0m\u001B[1;33m,\u001B[0m \u001B[0mparams\u001B[0m\u001B[1;33m\u001B[0m\u001B[1;33m\u001B[0m\u001B[0m\n\u001B[0;32m   1137\u001B[0m                     )\n",
      "\u001B[1;32mc:\\python38\\lib\\site-packages\\sqlalchemy\\engine\\base.py\u001B[0m in \u001B[0;36mexecute\u001B[1;34m(self, object_, *multiparams, **params)\u001B[0m\n\u001B[0;32m   1009\u001B[0m             )\n\u001B[0;32m   1010\u001B[0m         \u001B[1;32melse\u001B[0m\u001B[1;33m:\u001B[0m\u001B[1;33m\u001B[0m\u001B[1;33m\u001B[0m\u001B[0m\n\u001B[1;32m-> 1011\u001B[1;33m             \u001B[1;32mreturn\u001B[0m \u001B[0mmeth\u001B[0m\u001B[1;33m(\u001B[0m\u001B[0mself\u001B[0m\u001B[1;33m,\u001B[0m \u001B[0mmultiparams\u001B[0m\u001B[1;33m,\u001B[0m \u001B[0mparams\u001B[0m\u001B[1;33m)\u001B[0m\u001B[1;33m\u001B[0m\u001B[1;33m\u001B[0m\u001B[0m\n\u001B[0m\u001B[0;32m   1012\u001B[0m \u001B[1;33m\u001B[0m\u001B[0m\n\u001B[0;32m   1013\u001B[0m     \u001B[1;32mdef\u001B[0m \u001B[0m_execute_function\u001B[0m\u001B[1;33m(\u001B[0m\u001B[0mself\u001B[0m\u001B[1;33m,\u001B[0m \u001B[0mfunc\u001B[0m\u001B[1;33m,\u001B[0m \u001B[0mmultiparams\u001B[0m\u001B[1;33m,\u001B[0m \u001B[0mparams\u001B[0m\u001B[1;33m)\u001B[0m\u001B[1;33m:\u001B[0m\u001B[1;33m\u001B[0m\u001B[1;33m\u001B[0m\u001B[0m\n",
      "\u001B[1;32mc:\\python38\\lib\\site-packages\\sqlalchemy\\sql\\elements.py\u001B[0m in \u001B[0;36m_execute_on_connection\u001B[1;34m(self, connection, multiparams, params)\u001B[0m\n\u001B[0;32m    296\u001B[0m     \u001B[1;32mdef\u001B[0m \u001B[0m_execute_on_connection\u001B[0m\u001B[1;33m(\u001B[0m\u001B[0mself\u001B[0m\u001B[1;33m,\u001B[0m \u001B[0mconnection\u001B[0m\u001B[1;33m,\u001B[0m \u001B[0mmultiparams\u001B[0m\u001B[1;33m,\u001B[0m \u001B[0mparams\u001B[0m\u001B[1;33m)\u001B[0m\u001B[1;33m:\u001B[0m\u001B[1;33m\u001B[0m\u001B[1;33m\u001B[0m\u001B[0m\n\u001B[0;32m    297\u001B[0m         \u001B[1;32mif\u001B[0m \u001B[0mself\u001B[0m\u001B[1;33m.\u001B[0m\u001B[0msupports_execution\u001B[0m\u001B[1;33m:\u001B[0m\u001B[1;33m\u001B[0m\u001B[1;33m\u001B[0m\u001B[0m\n\u001B[1;32m--> 298\u001B[1;33m             \u001B[1;32mreturn\u001B[0m \u001B[0mconnection\u001B[0m\u001B[1;33m.\u001B[0m\u001B[0m_execute_clauseelement\u001B[0m\u001B[1;33m(\u001B[0m\u001B[0mself\u001B[0m\u001B[1;33m,\u001B[0m \u001B[0mmultiparams\u001B[0m\u001B[1;33m,\u001B[0m \u001B[0mparams\u001B[0m\u001B[1;33m)\u001B[0m\u001B[1;33m\u001B[0m\u001B[1;33m\u001B[0m\u001B[0m\n\u001B[0m\u001B[0;32m    299\u001B[0m         \u001B[1;32melse\u001B[0m\u001B[1;33m:\u001B[0m\u001B[1;33m\u001B[0m\u001B[1;33m\u001B[0m\u001B[0m\n\u001B[0;32m    300\u001B[0m             \u001B[1;32mraise\u001B[0m \u001B[0mexc\u001B[0m\u001B[1;33m.\u001B[0m\u001B[0mObjectNotExecutableError\u001B[0m\u001B[1;33m(\u001B[0m\u001B[0mself\u001B[0m\u001B[1;33m)\u001B[0m\u001B[1;33m\u001B[0m\u001B[1;33m\u001B[0m\u001B[0m\n",
      "\u001B[1;32mc:\\python38\\lib\\site-packages\\sqlalchemy\\engine\\base.py\u001B[0m in \u001B[0;36m_execute_clauseelement\u001B[1;34m(self, elem, multiparams, params)\u001B[0m\n\u001B[0;32m   1122\u001B[0m             )\n\u001B[0;32m   1123\u001B[0m \u001B[1;33m\u001B[0m\u001B[0m\n\u001B[1;32m-> 1124\u001B[1;33m         ret = self._execute_context(\n\u001B[0m\u001B[0;32m   1125\u001B[0m             \u001B[0mdialect\u001B[0m\u001B[1;33m,\u001B[0m\u001B[1;33m\u001B[0m\u001B[1;33m\u001B[0m\u001B[0m\n\u001B[0;32m   1126\u001B[0m             \u001B[0mdialect\u001B[0m\u001B[1;33m.\u001B[0m\u001B[0mexecution_ctx_cls\u001B[0m\u001B[1;33m.\u001B[0m\u001B[0m_init_compiled\u001B[0m\u001B[1;33m,\u001B[0m\u001B[1;33m\u001B[0m\u001B[1;33m\u001B[0m\u001B[0m\n",
      "\u001B[1;32mc:\\python38\\lib\\site-packages\\sqlalchemy\\engine\\base.py\u001B[0m in \u001B[0;36m_execute_context\u001B[1;34m(self, dialect, constructor, statement, parameters, *args)\u001B[0m\n\u001B[0;32m   1314\u001B[0m \u001B[1;33m\u001B[0m\u001B[0m\n\u001B[0;32m   1315\u001B[0m         \u001B[1;32mexcept\u001B[0m \u001B[0mBaseException\u001B[0m \u001B[1;32mas\u001B[0m \u001B[0me\u001B[0m\u001B[1;33m:\u001B[0m\u001B[1;33m\u001B[0m\u001B[1;33m\u001B[0m\u001B[0m\n\u001B[1;32m-> 1316\u001B[1;33m             self._handle_dbapi_exception(\n\u001B[0m\u001B[0;32m   1317\u001B[0m                 \u001B[0me\u001B[0m\u001B[1;33m,\u001B[0m \u001B[0mstatement\u001B[0m\u001B[1;33m,\u001B[0m \u001B[0mparameters\u001B[0m\u001B[1;33m,\u001B[0m \u001B[0mcursor\u001B[0m\u001B[1;33m,\u001B[0m \u001B[0mcontext\u001B[0m\u001B[1;33m\u001B[0m\u001B[1;33m\u001B[0m\u001B[0m\n\u001B[0;32m   1318\u001B[0m             )\n",
      "\u001B[1;32mc:\\python38\\lib\\site-packages\\sqlalchemy\\engine\\base.py\u001B[0m in \u001B[0;36m_handle_dbapi_exception\u001B[1;34m(self, e, statement, parameters, cursor, context)\u001B[0m\n\u001B[0;32m   1512\u001B[0m                 )\n\u001B[0;32m   1513\u001B[0m             \u001B[1;32melse\u001B[0m\u001B[1;33m:\u001B[0m\u001B[1;33m\u001B[0m\u001B[1;33m\u001B[0m\u001B[0m\n\u001B[1;32m-> 1514\u001B[1;33m                 \u001B[0mutil\u001B[0m\u001B[1;33m.\u001B[0m\u001B[0mraise_\u001B[0m\u001B[1;33m(\u001B[0m\u001B[0mexc_info\u001B[0m\u001B[1;33m[\u001B[0m\u001B[1;36m1\u001B[0m\u001B[1;33m]\u001B[0m\u001B[1;33m,\u001B[0m \u001B[0mwith_traceback\u001B[0m\u001B[1;33m=\u001B[0m\u001B[0mexc_info\u001B[0m\u001B[1;33m[\u001B[0m\u001B[1;36m2\u001B[0m\u001B[1;33m]\u001B[0m\u001B[1;33m)\u001B[0m\u001B[1;33m\u001B[0m\u001B[1;33m\u001B[0m\u001B[0m\n\u001B[0m\u001B[0;32m   1515\u001B[0m \u001B[1;33m\u001B[0m\u001B[0m\n\u001B[0;32m   1516\u001B[0m         \u001B[1;32mfinally\u001B[0m\u001B[1;33m:\u001B[0m\u001B[1;33m\u001B[0m\u001B[1;33m\u001B[0m\u001B[0m\n",
      "\u001B[1;32mc:\\python38\\lib\\site-packages\\sqlalchemy\\util\\compat.py\u001B[0m in \u001B[0;36mraise_\u001B[1;34m(***failed resolving arguments***)\u001B[0m\n\u001B[0;32m    180\u001B[0m \u001B[1;33m\u001B[0m\u001B[0m\n\u001B[0;32m    181\u001B[0m         \u001B[1;32mtry\u001B[0m\u001B[1;33m:\u001B[0m\u001B[1;33m\u001B[0m\u001B[1;33m\u001B[0m\u001B[0m\n\u001B[1;32m--> 182\u001B[1;33m             \u001B[1;32mraise\u001B[0m \u001B[0mexception\u001B[0m\u001B[1;33m\u001B[0m\u001B[1;33m\u001B[0m\u001B[0m\n\u001B[0m\u001B[0;32m    183\u001B[0m         \u001B[1;32mfinally\u001B[0m\u001B[1;33m:\u001B[0m\u001B[1;33m\u001B[0m\u001B[1;33m\u001B[0m\u001B[0m\n\u001B[0;32m    184\u001B[0m             \u001B[1;31m# credit to\u001B[0m\u001B[1;33m\u001B[0m\u001B[1;33m\u001B[0m\u001B[1;33m\u001B[0m\u001B[0m\n",
      "\u001B[1;32mc:\\python38\\lib\\site-packages\\sqlalchemy\\engine\\base.py\u001B[0m in \u001B[0;36m_execute_context\u001B[1;34m(self, dialect, constructor, statement, parameters, *args)\u001B[0m\n\u001B[0;32m   1274\u001B[0m                             \u001B[1;32mbreak\u001B[0m\u001B[1;33m\u001B[0m\u001B[1;33m\u001B[0m\u001B[0m\n\u001B[0;32m   1275\u001B[0m                 \u001B[1;32mif\u001B[0m \u001B[1;32mnot\u001B[0m \u001B[0mevt_handled\u001B[0m\u001B[1;33m:\u001B[0m\u001B[1;33m\u001B[0m\u001B[1;33m\u001B[0m\u001B[0m\n\u001B[1;32m-> 1276\u001B[1;33m                     self.dialect.do_execute(\n\u001B[0m\u001B[0;32m   1277\u001B[0m                         \u001B[0mcursor\u001B[0m\u001B[1;33m,\u001B[0m \u001B[0mstatement\u001B[0m\u001B[1;33m,\u001B[0m \u001B[0mparameters\u001B[0m\u001B[1;33m,\u001B[0m \u001B[0mcontext\u001B[0m\u001B[1;33m\u001B[0m\u001B[1;33m\u001B[0m\u001B[0m\n\u001B[0;32m   1278\u001B[0m                     )\n",
      "\u001B[1;32mc:\\python38\\lib\\site-packages\\sqlalchemy\\engine\\default.py\u001B[0m in \u001B[0;36mdo_execute\u001B[1;34m(self, cursor, statement, parameters, context)\u001B[0m\n\u001B[0;32m    591\u001B[0m \u001B[1;33m\u001B[0m\u001B[0m\n\u001B[0;32m    592\u001B[0m     \u001B[1;32mdef\u001B[0m \u001B[0mdo_execute\u001B[0m\u001B[1;33m(\u001B[0m\u001B[0mself\u001B[0m\u001B[1;33m,\u001B[0m \u001B[0mcursor\u001B[0m\u001B[1;33m,\u001B[0m \u001B[0mstatement\u001B[0m\u001B[1;33m,\u001B[0m \u001B[0mparameters\u001B[0m\u001B[1;33m,\u001B[0m \u001B[0mcontext\u001B[0m\u001B[1;33m=\u001B[0m\u001B[1;32mNone\u001B[0m\u001B[1;33m)\u001B[0m\u001B[1;33m:\u001B[0m\u001B[1;33m\u001B[0m\u001B[1;33m\u001B[0m\u001B[0m\n\u001B[1;32m--> 593\u001B[1;33m         \u001B[0mcursor\u001B[0m\u001B[1;33m.\u001B[0m\u001B[0mexecute\u001B[0m\u001B[1;33m(\u001B[0m\u001B[0mstatement\u001B[0m\u001B[1;33m,\u001B[0m \u001B[0mparameters\u001B[0m\u001B[1;33m)\u001B[0m\u001B[1;33m\u001B[0m\u001B[1;33m\u001B[0m\u001B[0m\n\u001B[0m\u001B[0;32m    594\u001B[0m \u001B[1;33m\u001B[0m\u001B[0m\n\u001B[0;32m    595\u001B[0m     \u001B[1;32mdef\u001B[0m \u001B[0mdo_execute_no_params\u001B[0m\u001B[1;33m(\u001B[0m\u001B[0mself\u001B[0m\u001B[1;33m,\u001B[0m \u001B[0mcursor\u001B[0m\u001B[1;33m,\u001B[0m \u001B[0mstatement\u001B[0m\u001B[1;33m,\u001B[0m \u001B[0mcontext\u001B[0m\u001B[1;33m=\u001B[0m\u001B[1;32mNone\u001B[0m\u001B[1;33m)\u001B[0m\u001B[1;33m:\u001B[0m\u001B[1;33m\u001B[0m\u001B[1;33m\u001B[0m\u001B[0m\n",
      "\u001B[1;32mc:\\python38\\lib\\encodings\\utf_8.py\u001B[0m in \u001B[0;36mdecode\u001B[1;34m(input, errors)\u001B[0m\n\u001B[0;32m     13\u001B[0m \u001B[0mencode\u001B[0m \u001B[1;33m=\u001B[0m \u001B[0mcodecs\u001B[0m\u001B[1;33m.\u001B[0m\u001B[0mutf_8_encode\u001B[0m\u001B[1;33m\u001B[0m\u001B[1;33m\u001B[0m\u001B[0m\n\u001B[0;32m     14\u001B[0m \u001B[1;33m\u001B[0m\u001B[0m\n\u001B[1;32m---> 15\u001B[1;33m \u001B[1;32mdef\u001B[0m \u001B[0mdecode\u001B[0m\u001B[1;33m(\u001B[0m\u001B[0minput\u001B[0m\u001B[1;33m,\u001B[0m \u001B[0merrors\u001B[0m\u001B[1;33m=\u001B[0m\u001B[1;34m'strict'\u001B[0m\u001B[1;33m)\u001B[0m\u001B[1;33m:\u001B[0m\u001B[1;33m\u001B[0m\u001B[1;33m\u001B[0m\u001B[0m\n\u001B[0m\u001B[0;32m     16\u001B[0m     \u001B[1;32mreturn\u001B[0m \u001B[0mcodecs\u001B[0m\u001B[1;33m.\u001B[0m\u001B[0mutf_8_decode\u001B[0m\u001B[1;33m(\u001B[0m\u001B[0minput\u001B[0m\u001B[1;33m,\u001B[0m \u001B[0merrors\u001B[0m\u001B[1;33m,\u001B[0m \u001B[1;32mTrue\u001B[0m\u001B[1;33m)\u001B[0m\u001B[1;33m\u001B[0m\u001B[1;33m\u001B[0m\u001B[0m\n\u001B[0;32m     17\u001B[0m \u001B[1;33m\u001B[0m\u001B[0m\n",
      "\u001B[1;31mKeyboardInterrupt\u001B[0m: "
     ]
    }
   ],
   "source": [
    "# Process the dataframe\n",
    "# Note that after the very first attempt at this we need to test for whether the record already exist and then update the\n",
    "# date last found\n",
    "length = len(df)\n",
    "ctr = 0\n",
    "for index, row in df.iterrows():\n",
    "    \n",
    "    newdate = df._get_value(index, 'Date')\n",
    "    newdate = datetime.strptime(newdate, '%m/%d/%Y')\n",
    "#     print('New Date', newdate)\n",
    "    newAmount = float(df._get_value(index, 'Amount').replace('$', '').replace(',',''))\n",
    "#     print('New Amount', newAmount)\n",
    "    \n",
    "    expense = ExpensesRaw(\n",
    "        ministry=df._get_value(index, 'Ministry'),\n",
    "        position=df._get_value(index, 'Position'),\n",
    "        name=df._get_value(index, 'Name'),\n",
    "        type=df._get_value(index, 'Type'),\n",
    "        category=df._get_value(index, 'Category'),\n",
    "        expense_date=newdate,\n",
    "        amount=newAmount,\n",
    "        description=df._get_value(index, 'Description'),\n",
    "        receipt1=df._get_value(index, 'Receipt 1'),\n",
    "        receipt2=df._get_value(index, 'Receipt 2'),\n",
    "        receipt3=df._get_value(index, 'Receipt 3'),\n",
    "        date_last_found=datetime.now(),\n",
    "        created_at=datetime.now(),\n",
    "        updated_at=datetime.now(),\n",
    "    )\n",
    "    \n",
    "    if ctr % 100 == 0:\n",
    "        print('Count: %s of %s ' %(ctr, length))\n",
    "    \n",
    "    ctr = ctr + 1\n",
    "    \n",
    "    try:\n",
    "        session.add(expense)\n",
    "        session.commit()\n",
    "    except SQLAlchemyError as e:\n",
    "#         error = str(e.__dict__['orig'])\n",
    "        session.rollback()\n",
    "        print('Could not save the new expense %s',\n",
    "              expense)\n",
    "#         print(error)\n",
    "   "
   ]
  },
  {
   "cell_type": "code",
   "execution_count": 8,
   "metadata": {},
   "outputs": [
    {
     "name": "stdout",
     "output_type": "stream",
     "text": [
      "                            Ministry            Position             Name  \\\n",
      "1  Agriculture and Rural Development  Executive Director  Munroe,Clifford   \n",
      "2  Agriculture and Rural Development  Executive Director  Munroe,Clifford   \n",
      "3  Agriculture and Rural Development  Executive Director  Munroe,Clifford   \n",
      "4  Agriculture and Rural Development  Executive Director  Munroe,Clifford   \n",
      "5  Agriculture and Rural Development  Executive Director  Munroe,Clifford   \n",
      "\n",
      "     Type     Category        Date   Amount  \\\n",
      "1  Travel        Meals  10/10/2012   $20.75   \n",
      "2  Travel      Mileage  10/10/2012  $333.81   \n",
      "3  Travel  Other Costs  10/12/2012    $7.35   \n",
      "4  Travel  Other Costs  10/11/2012    $7.35   \n",
      "5  Travel        Meals  10/12/2012   $11.60   \n",
      "\n",
      "                                         Description Receipt 1 Receipt 2  \\\n",
      "1        Counter Terrorism Seminar: Dinner allowance       NaN       NaN   \n",
      "2  Counter Terrorism Seminar: Edmonton/Calgary re...       NaN       NaN   \n",
      "3                Counter Terrorism Seminar: Per Diem       NaN       NaN   \n",
      "4                Counter Terrorism Seminar: Per Diem       NaN       NaN   \n",
      "5         Counter Terrorism Seminar: Lunch allowance       NaN       NaN   \n",
      "\n",
      "  Receipt 3  \n",
      "1       NaN  \n",
      "2       NaN  \n",
      "3       NaN  \n",
      "4       NaN  \n",
      "5       NaN  \n"
     ]
    }
   ],
   "source": [
    "print(df.head())"
   ]
  }
 ],
 "metadata": {
  "kernelspec": {
   "display_name": "Python 3",
   "language": "python",
   "name": "python3"
  },
  "language_info": {
   "codemirror_mode": {
    "name": "ipython",
    "version": 3
   },
   "file_extension": ".py",
   "mimetype": "text/x-python",
   "name": "python",
   "nbconvert_exporter": "python",
   "pygments_lexer": "ipython3",
   "version": "3.8.3"
  }
 },
 "nbformat": 4,
 "nbformat_minor": 1
}