{
 "cells": [
  {
   "cell_type": "code",
   "execution_count": 27,
   "metadata": {
    "pycharm": {
     "is_executing": true
    }
   },
   "outputs": [],
   "source": [
    "import requests\n",
    "import datetime\n",
    "import time\n",
    "import os\n",
    "import csv\n",
    "import pandas as pd\n",
    "# from os import environ\n",
    "from sqlalchemy import MetaData, create_engine, asc\n",
    "from sqlalchemy.orm import sessionmaker\n",
    "from sqlalchemy.exc import SQLAlchemyError\n",
    "\n",
    "import psycopg2\n",
    "from psycopg2 import Error\n",
    "\n",
    "from flask import Flask, jsonify, request\n",
    "from flask_cors import cross_origin, CORS\n",
    "from models.models import Base\n",
    "\n",
    "from models.models import ExpensesRaw, Filenames\n",
    "# from endpointClasses.resources import Resources\n",
    "#\n",
    "from sqlalchemy import Column, Integer, BigInteger, String, Text, DateTime, \\\n",
    "    Float, Boolean, func, ForeignKeyConstraint, Index, ForeignKey\n",
    "from sqlalchemy.ext.declarative import declarative_base\n",
    "from sqlalchemy.orm import relationship, backref\n",
    "from sqlalchemy.ext.hybrid import hybrid_property, hybrid_method\n",
    "from datetime import datetime, timedelta, timezone\n",
    "from geoalchemy2 import Geography, Geometry\n"
   ]
  },
  {
   "cell_type": "code",
   "execution_count": 28,
   "metadata": {},
   "outputs": [
    {
     "data": {
      "text/plain": [
       "<flask_cors.extension.CORS at 0x1b7cc20a190>"
      ]
     },
     "execution_count": 28,
     "metadata": {},
     "output_type": "execute_result"
    }
   ],
   "source": [
    "### Setup the application\n",
    "app = Flask(__name__)\n",
    "\n",
    "# Wrap CORS around the app so that the server does not block machine to machine\n",
    "# or browser based requests\n",
    "CORS(app)"
   ]
  },
  {
   "cell_type": "code",
   "execution_count": 29,
   "metadata": {},
   "outputs": [],
   "source": [
    "# Engine below for Google Cloud PostgreSQL access.\n",
    "engine = create_engine('postgresql+psycopg2://postgres:5413CrossFit2018@34'\n",
    "                       '.70.40.80/transgov')\n",
    "\n",
    "Base.metadata.create_all(engine)\n",
    "\n",
    "Session = sessionmaker(bind=engine)\n",
    "session = Session()"
   ]
  },
  {
   "cell_type": "code",
   "execution_count": 30,
   "metadata": {},
   "outputs": [],
   "source": [
    "col_names = [\"Ministry\", \"Position\", \"Name\", \"Type\", \"Category\", \"Date\", \"Amount\",\n",
    "         \"Description\", \"Receipt 1\", \"Receipt 2\", \"Receipt 3\"]"
   ]
  },
  {
   "cell_type": "code",
   "execution_count": 31,
   "metadata": {},
   "outputs": [
    {
     "name": "stdout",
     "output_type": "stream",
     "text": [
      "Downloading .....\n",
      "Saving to CSV ...\n",
      "done...\n"
     ]
    }
   ],
   "source": [
    "# download  csv file\n",
    "# Only do this once per day\n",
    "print('Downloading .....')\n",
    "df = pd.read_csv(r'https://expenses.alberta.ca/DownloadData.aspx?type=csv'\n",
    "                   r'&d=IsVE/OcdpNZJ5rBbvji3qw', names=col_names,\n",
    "                     low_memory=False, parse_dates=['Date'])\n",
    "\n",
    "# Saving the dataframe\n",
    "print('Saving to CSV ...')\n",
    "filename = 'expenses/' + str( time.strftime('%Y%m%d') ) + \".csv\"\n",
    "df.to_csv(filename)\n",
    "print('done...')"
   ]
  },
  {
   "cell_type": "code",
   "execution_count": 32,
   "metadata": {},
   "outputs": [
    {
     "name": "stdout",
     "output_type": "stream",
     "text": [
      "Reading from file...\n",
      "Done... 536436\n"
     ]
    }
   ],
   "source": [
    "print('Reading from file...')\n",
    "# filename = \"/\" + filename\n",
    "df=pd.read_csv(filename, names=col_names, low_memory=False, skiprows=2)\n",
    "df_size = len(df.index)\n",
    "print('Done...', df_size)"
   ]
  },
  {
   "cell_type": "code",
   "execution_count": 33,
   "metadata": {},
   "outputs": [
    {
     "name": "stdout",
     "output_type": "stream",
     "text": [
      "Reading from previous file...\n",
      "Done... 536436\n"
     ]
    }
   ],
   "source": [
    "# compare the current download to the most previous download so that we can identify\n",
    "# the changes and only process those.\n",
    "# 1. Check file sizes\n",
    "# 2. iterate through DF1 and lookup record in DF2\n",
    "# 3.   if record exists then do nothing\n",
    "# 4.   is this new record or a changed one? (hard to determine....we may have to manually see if dups become a problem)\n",
    "\n",
    "# 4.   otherwise add record to database\n",
    "\n",
    "print('Reading from previous file...')\n",
    "# get the most recent entry in the table FileNames\n",
    "prevFile = pd.read_sql(\n",
    "        session.query(Filenames).statement, session.bind)\n",
    "\n",
    "previousFile = prevFile._get_value(0,'name')\n",
    "\n",
    "# open the file as a dataframe\n",
    "prev_df = pd.read_csv(previousFile, names=col_names, low_memory=False, skiprows=2)\n",
    "prev_df_size = len(prev_df.index)\n",
    "print('Done...', prev_df_size)"
   ]
  },
  {
   "cell_type": "code",
   "execution_count": 36,
   "metadata": {},
   "outputs": [],
   "source": [
    "# compare the two dataframes\n",
    "def dataframe_difference(df1, df2, which=None):\n",
    "    \"\"\"Find rows which are different between two DataFrames.\"\"\"\n",
    "    comparison_df = df1.merge(\n",
    "        df2,\n",
    "        indicator=True,\n",
    "        how='outer'\n",
    "    )\n",
    "    if which is None:\n",
    "        diff_df = comparison_df[comparison_df['_merge'] != 'both']\n",
    "    else:\n",
    "        diff_df = comparison_df[comparison_df['_merge'] == which]\n",
    "    diff_df.to_csv('expenses/diff.csv')\n",
    "    return diff_df"
   ]
  },
  {
   "cell_type": "code",
   "execution_count": 37,
   "metadata": {},
   "outputs": [
    {
     "data": {
      "text/html": [
       "<div>\n",
       "<style scoped>\n",
       "    .dataframe tbody tr th:only-of-type {\n",
       "        vertical-align: middle;\n",
       "    }\n",
       "\n",
       "    .dataframe tbody tr th {\n",
       "        vertical-align: top;\n",
       "    }\n",
       "\n",
       "    .dataframe thead th {\n",
       "        text-align: right;\n",
       "    }\n",
       "</style>\n",
       "<table border=\"1\" class=\"dataframe\">\n",
       "  <thead>\n",
       "    <tr style=\"text-align: right;\">\n",
       "      <th></th>\n",
       "      <th>Ministry</th>\n",
       "      <th>Position</th>\n",
       "      <th>Name</th>\n",
       "      <th>Type</th>\n",
       "      <th>Category</th>\n",
       "      <th>Date</th>\n",
       "      <th>Amount</th>\n",
       "      <th>Description</th>\n",
       "      <th>Receipt 1</th>\n",
       "      <th>Receipt 2</th>\n",
       "      <th>Receipt 3</th>\n",
       "      <th>_merge</th>\n",
       "    </tr>\n",
       "  </thead>\n",
       "  <tbody>\n",
       "  </tbody>\n",
       "</table>\n",
       "</div>"
      ],
      "text/plain": [
       "Empty DataFrame\n",
       "Columns: [Ministry, Position, Name, Type, Category, Date, Amount, Description, Receipt 1, Receipt 2, Receipt 3, _merge]\n",
       "Index: []"
      ]
     },
     "execution_count": 37,
     "metadata": {},
     "output_type": "execute_result"
    }
   ],
   "source": [
    "dataframe_difference(df, prev_df)"
   ]
  },
  {
   "cell_type": "code",
   "execution_count": 38,
   "metadata": {},
   "outputs": [],
   "source": [
    "# save file name to filenames\n",
    "filetosave = Filenames(\n",
    "        name=filename,\n",
    "        records = df_size,\n",
    "        created_at=datetime.now()\n",
    "    )\n",
    "try:\n",
    "    session.add(filetosave)\n",
    "    session.commit()\n",
    "except SQLAlchemyError as e:\n",
    "    session.rollback()\n",
    "    print('Could not save the new filename %s', filetosave)"
   ]
  },
  {
   "cell_type": "code",
   "execution_count": null,
   "metadata": {},
   "outputs": [
    {
     "name": "stdout",
     "output_type": "stream",
     "text": [
      "Count: 0 of 536436 \n",
      "Count: 100 of 536436 \n",
      "Count: 200 of 536436 \n",
      "Count: 300 of 536436 \n"
     ]
    }
   ],
   "source": [
    "# Process the dataframe\n",
    "# Note that after the very first attempt at this we need to test for whether the record already exist and then update the\n",
    "# date last found\n",
    "length = len(df)\n",
    "ctr = 0\n",
    "for index, row in df.iterrows():\n",
    "    \n",
    "    newdate = df._get_value(index, 'Date')\n",
    "    newdate = datetime.strptime(newdate, '%m/%d/%Y')\n",
    "    newAmount = df._get_value(index, 'Amount').replace('$', '').replace(',','')\n",
    "    newAmount = float(newAmount)\n",
    "\n",
    "    if len(str(df._get_value(index, 'Receipt 1'))) > 5:\n",
    "        newReceipt1 = df._get_value(index, 'Receipt 1')\n",
    "    else:\n",
    "        newReceipt1 = ''\n",
    "    if len(str(df._get_value(index, 'Receipt 2'))) > 5:\n",
    "        newReceipt2 = df._get_value(index, 'Receipt 2')\n",
    "    else:\n",
    "        newReceipt2 = ''\n",
    "    if len(str(df._get_value(index, 'Receipt 3'))) > 5:\n",
    "        newReceipt3 = df._get_value(index, 'Receipt 3')\n",
    "    else:\n",
    "        newReceipt3 = ''  \n",
    "    \n",
    "    expense = ExpensesRaw(\n",
    "        ministry=df._get_value(index, 'Ministry'),\n",
    "        position=df._get_value(index, 'Position'),\n",
    "        name=df._get_value(index, 'Name'),\n",
    "        type=df._get_value(index, 'Type'),\n",
    "        category=df._get_value(index, 'Category'),\n",
    "        expense_date=newdate,\n",
    "        amount=newAmount,\n",
    "        description=df._get_value(index, 'Description'),\n",
    "        receipt1=newReceipt1,\n",
    "        receipt2=newReceipt2,\n",
    "        receipt3=newReceipt3,\n",
    "        date_last_found=datetime.now(),\n",
    "        created_at=datetime.now(),\n",
    "        updated_at=datetime.now(),\n",
    "    )\n",
    "    \n",
    "#     qry = session.query(ExpensesRaw)\n",
    "#     qry = qry.filter(\n",
    "#                      ExpensesRaw.ministry==df._get_value(index, 'Ministry'),\n",
    "#                      ExpensesRaw.position==df._get_value(index, 'Position'),\n",
    "#                      ExpensesRaw.name==df._get_value(index, 'Name'),\n",
    "#                      ExpensesRaw.type==df._get_value(index, 'Type'),\n",
    "#                      ExpensesRaw.category==df._get_value(index, 'Category'),\n",
    "#                      ExpensesRaw.expense_date==newdate,\n",
    "#                      ExpensesRaw.amount==newAmount,\n",
    "#                      ExpensesRaw.description==df._get_value(index, 'Description'),\n",
    "#                      ExpensesRaw.receipt1==df._get_value(index, 'Receipt 1'),\n",
    "#                      ExpensesRaw.receipt2==df._get_value(index, 'Receipt 2'),\n",
    "#                      ExpensesRaw.receipt3==df._get_value(index, 'Receipt 3')\n",
    "#                     ).first()\n",
    "#     print('Query', qry)\n",
    "    \n",
    "    if ctr % 100 == 0:\n",
    "        print('Count: %s of %s ' %(ctr, length))\n",
    "    \n",
    "    ctr = ctr + 1\n",
    "    \n",
    "    try:\n",
    "        session.add(expense)\n",
    "        session.commit()\n",
    "    except SQLAlchemyError as e:\n",
    "#         error = str(e.__dict__['orig'])\n",
    "        session.rollback()\n",
    "        print('Could not save the new expense %s',\n",
    "              expense)\n",
    "#         print(error)\n",
    "   "
   ]
  },
  {
   "cell_type": "code",
   "execution_count": null,
   "metadata": {},
   "outputs": [],
   "source": [
    "print(df.head())"
   ]
  }
 ],
 "metadata": {
  "kernelspec": {
   "display_name": "Python 3",
   "language": "python",
   "name": "python3"
  },
  "language_info": {
   "codemirror_mode": {
    "name": "ipython",
    "version": 3
   },
   "file_extension": ".py",
   "mimetype": "text/x-python",
   "name": "python",
   "nbconvert_exporter": "python",
   "pygments_lexer": "ipython3",
   "version": "3.8.3"
  }
 },
 "nbformat": 4,
 "nbformat_minor": 1
}