{
 "cells": [
  {
   "cell_type": "code",
   "execution_count": 2,
   "metadata": {
    "pycharm": {
     "is_executing": true
    }
   },
   "outputs": [],
   "source": [
    "import requests\n",
    "import datetime\n",
    "import time\n",
    "import os\n",
    "import csv\n",
    "import pandas as pd\n",
    "# from os import environ\n",
    "from sqlalchemy import MetaData, create_engine, asc\n",
    "from sqlalchemy.orm import sessionmaker\n",
    "from sqlalchemy.exc import SQLAlchemyError\n",
    "\n",
    "import psycopg2\n",
    "from psycopg2 import Error\n",
    "\n",
    "from flask import Flask, jsonify, request\n",
    "from flask_cors import cross_origin, CORS\n",
    "from models.models import Base\n",
    "\n",
    "from models.models import ExpensesRaw, Filenames\n",
    "# from endpointClasses.resources import Resources\n",
    "#\n",
    "from sqlalchemy import Column, Integer, BigInteger, String, Text, DateTime, \\\n",
    "    Float, Boolean, func, ForeignKeyConstraint, Index, ForeignKey\n",
    "from sqlalchemy.ext.declarative import declarative_base\n",
    "from sqlalchemy.orm import relationship, backref\n",
    "from sqlalchemy.ext.hybrid import hybrid_property, hybrid_method\n",
    "from datetime import datetime, timedelta, timezone\n",
    "from geoalchemy2 import Geography, Geometry\n"
   ]
  },
  {
   "cell_type": "code",
   "execution_count": 3,
   "metadata": {},
   "outputs": [
    {
     "data": {
      "text/plain": [
       "<flask_cors.extension.CORS at 0x1eda9f9f5b0>"
      ]
     },
     "execution_count": 3,
     "metadata": {},
     "output_type": "execute_result"
    }
   ],
   "source": [
    "### Setup the application\n",
    "app = Flask(__name__)\n",
    "\n",
    "# Wrap CORS around the app so that the server does not block machine to machine\n",
    "# or browser based requests\n",
    "CORS(app)"
   ]
  },
  {
   "cell_type": "code",
   "execution_count": 4,
   "metadata": {},
   "outputs": [],
   "source": [
    "# Engine below for Google Cloud PostgreSQL access.\n",
    "engine = create_engine('postgresql+psycopg2://postgres:5413CrossFit2018@34'\n",
    "                       '.70.40.80/transgov')\n",
    "\n",
    "Base.metadata.create_all(engine)\n",
    "\n",
    "Session = sessionmaker(bind=engine)\n",
    "session = Session()"
   ]
  },
  {
   "cell_type": "code",
   "execution_count": 5,
   "metadata": {},
   "outputs": [],
   "source": [
    "col_names = [\"Ministry\", \"Position\", \"Name\", \"Type\", \"Category\", \"Date\", \"Amount\",\n",
    "         \"Description\", \"Receipt 1\", \"Receipt 2\", \"Receipt 3\"]"
   ]
  },
  {
   "cell_type": "code",
   "execution_count": 6,
   "metadata": {},
   "outputs": [
    {
     "name": "stdout",
     "output_type": "stream",
     "text": [
      "Downloading .....\n",
      "Saving to CSV ...\n",
      "done...\n"
     ]
    }
   ],
   "source": [
    "# download  csv file\n",
    "# Only do this once per day\n",
    "print('Downloading .....')\n",
    "df = pd.read_csv(r'https://expenses.alberta.ca/DownloadData.aspx?type=csv'\n",
    "                   r'&d=IsVE/OcdpNZJ5rBbvji3qw', names=col_names,\n",
    "                     low_memory=False, parse_dates=['Date'])\n",
    "\n",
    "# Saving the dataframe\n",
    "print('Saving to CSV ...')\n",
    "filename = 'expenses/' + str( time.strftime('%Y%m%d') ) + \".csv\"\n",
    "df.to_csv(filename)\n",
    "print('done...')"
   ]
  },
  {
   "cell_type": "code",
   "execution_count": 7,
   "metadata": {},
   "outputs": [
    {
     "name": "stdout",
     "output_type": "stream",
     "text": [
      "Reading from file...\n",
      "Done... 536436\n"
     ]
    }
   ],
   "source": [
    "print('Reading from file...')\n",
    "# filename = \"/\" + filename\n",
    "df=pd.read_csv(filename, names=col_names, low_memory=False, skiprows=2)\n",
    "df_size = len(df.index)\n",
    "print('Done...', df_size)"
   ]
  },
  {
   "cell_type": "code",
   "execution_count": 8,
   "metadata": {},
   "outputs": [],
   "source": [
    "# save file name to filenames\n",
    "filetosave = Filenames(\n",
    "        name=filename,\n",
    "        records = df_size,\n",
    "        created_at=datetime.now()\n",
    "    )\n",
    "try:\n",
    "    session.add(filetosave)\n",
    "    session.commit()\n",
    "except SQLAlchemyError as e:\n",
    "    session.rollback()\n",
    "    print('Could not save the new filename %s', filetosave)"
   ]
  },
  {
   "cell_type": "code",
   "execution_count": null,
   "metadata": {},
   "outputs": [],
   "source": [
    "# compare the current download to the most previous download so that we can identify\n",
    "# the changes and only process those.\n",
    "# 1. Check file sizes\n",
    "# 2. iterate through DF1 and lookup record in DF2\n",
    "# 3.   if record exists then do nothing\n",
    "# 4.   is this new record or a changed one? (hard to determine....we may have to manually see if dups become a problem)\n",
    "\n",
    "# 4.   otherwise add record to database"
   ]
  },
  {
   "cell_type": "code",
   "execution_count": 9,
   "metadata": {},
   "outputs": [
    {
     "name": "stdout",
     "output_type": "stream",
     "text": [
      "Count: 0 of 536436 \n",
      "Count: 100 of 536436 \n"
     ]
    },
    {
     "ename": "KeyboardInterrupt",
     "evalue": "",
     "output_type": "error",
     "traceback": [
      "\u001B[1;31m---------------------------------------------------------------------------\u001B[0m",
      "\u001B[1;31mKeyboardInterrupt\u001B[0m                         Traceback (most recent call last)",
      "\u001B[1;32m<ipython-input-9-e334522d04c8>\u001B[0m in \u001B[0;36m<module>\u001B[1;34m\u001B[0m\n\u001B[0;32m     64\u001B[0m     \u001B[1;32mtry\u001B[0m\u001B[1;33m:\u001B[0m\u001B[1;33m\u001B[0m\u001B[1;33m\u001B[0m\u001B[0m\n\u001B[0;32m     65\u001B[0m         \u001B[0msession\u001B[0m\u001B[1;33m.\u001B[0m\u001B[0madd\u001B[0m\u001B[1;33m(\u001B[0m\u001B[0mexpense\u001B[0m\u001B[1;33m)\u001B[0m\u001B[1;33m\u001B[0m\u001B[1;33m\u001B[0m\u001B[0m\n\u001B[1;32m---> 66\u001B[1;33m         \u001B[0msession\u001B[0m\u001B[1;33m.\u001B[0m\u001B[0mcommit\u001B[0m\u001B[1;33m(\u001B[0m\u001B[1;33m)\u001B[0m\u001B[1;33m\u001B[0m\u001B[1;33m\u001B[0m\u001B[0m\n\u001B[0m\u001B[0;32m     67\u001B[0m     \u001B[1;32mexcept\u001B[0m \u001B[0mSQLAlchemyError\u001B[0m \u001B[1;32mas\u001B[0m \u001B[0me\u001B[0m\u001B[1;33m:\u001B[0m\u001B[1;33m\u001B[0m\u001B[1;33m\u001B[0m\u001B[0m\n\u001B[0;32m     68\u001B[0m \u001B[1;31m#         error = str(e.__dict__['orig'])\u001B[0m\u001B[1;33m\u001B[0m\u001B[1;33m\u001B[0m\u001B[1;33m\u001B[0m\u001B[0m\n",
      "\u001B[1;32mc:\\python38\\lib\\site-packages\\sqlalchemy\\orm\\session.py\u001B[0m in \u001B[0;36mcommit\u001B[1;34m(self)\u001B[0m\n\u001B[0;32m   1040\u001B[0m                 \u001B[1;32mraise\u001B[0m \u001B[0msa_exc\u001B[0m\u001B[1;33m.\u001B[0m\u001B[0mInvalidRequestError\u001B[0m\u001B[1;33m(\u001B[0m\u001B[1;34m\"No transaction is begun.\"\u001B[0m\u001B[1;33m)\u001B[0m\u001B[1;33m\u001B[0m\u001B[1;33m\u001B[0m\u001B[0m\n\u001B[0;32m   1041\u001B[0m \u001B[1;33m\u001B[0m\u001B[0m\n\u001B[1;32m-> 1042\u001B[1;33m         \u001B[0mself\u001B[0m\u001B[1;33m.\u001B[0m\u001B[0mtransaction\u001B[0m\u001B[1;33m.\u001B[0m\u001B[0mcommit\u001B[0m\u001B[1;33m(\u001B[0m\u001B[1;33m)\u001B[0m\u001B[1;33m\u001B[0m\u001B[1;33m\u001B[0m\u001B[0m\n\u001B[0m\u001B[0;32m   1043\u001B[0m \u001B[1;33m\u001B[0m\u001B[0m\n\u001B[0;32m   1044\u001B[0m     \u001B[1;32mdef\u001B[0m \u001B[0mprepare\u001B[0m\u001B[1;33m(\u001B[0m\u001B[0mself\u001B[0m\u001B[1;33m)\u001B[0m\u001B[1;33m:\u001B[0m\u001B[1;33m\u001B[0m\u001B[1;33m\u001B[0m\u001B[0m\n",
      "\u001B[1;32mc:\\python38\\lib\\site-packages\\sqlalchemy\\orm\\session.py\u001B[0m in \u001B[0;36mcommit\u001B[1;34m(self)\u001B[0m\n\u001B[0;32m    506\u001B[0m         \u001B[1;32mif\u001B[0m \u001B[0mself\u001B[0m\u001B[1;33m.\u001B[0m\u001B[0m_parent\u001B[0m \u001B[1;32mis\u001B[0m \u001B[1;32mNone\u001B[0m \u001B[1;32mor\u001B[0m \u001B[0mself\u001B[0m\u001B[1;33m.\u001B[0m\u001B[0mnested\u001B[0m\u001B[1;33m:\u001B[0m\u001B[1;33m\u001B[0m\u001B[1;33m\u001B[0m\u001B[0m\n\u001B[0;32m    507\u001B[0m             \u001B[1;32mfor\u001B[0m \u001B[0mt\u001B[0m \u001B[1;32min\u001B[0m \u001B[0mset\u001B[0m\u001B[1;33m(\u001B[0m\u001B[0mself\u001B[0m\u001B[1;33m.\u001B[0m\u001B[0m_connections\u001B[0m\u001B[1;33m.\u001B[0m\u001B[0mvalues\u001B[0m\u001B[1;33m(\u001B[0m\u001B[1;33m)\u001B[0m\u001B[1;33m)\u001B[0m\u001B[1;33m:\u001B[0m\u001B[1;33m\u001B[0m\u001B[1;33m\u001B[0m\u001B[0m\n\u001B[1;32m--> 508\u001B[1;33m                 \u001B[0mt\u001B[0m\u001B[1;33m[\u001B[0m\u001B[1;36m1\u001B[0m\u001B[1;33m]\u001B[0m\u001B[1;33m.\u001B[0m\u001B[0mcommit\u001B[0m\u001B[1;33m(\u001B[0m\u001B[1;33m)\u001B[0m\u001B[1;33m\u001B[0m\u001B[1;33m\u001B[0m\u001B[0m\n\u001B[0m\u001B[0;32m    509\u001B[0m \u001B[1;33m\u001B[0m\u001B[0m\n\u001B[0;32m    510\u001B[0m             \u001B[0mself\u001B[0m\u001B[1;33m.\u001B[0m\u001B[0m_state\u001B[0m \u001B[1;33m=\u001B[0m \u001B[0mCOMMITTED\u001B[0m\u001B[1;33m\u001B[0m\u001B[1;33m\u001B[0m\u001B[0m\n",
      "\u001B[1;32mc:\\python38\\lib\\site-packages\\sqlalchemy\\engine\\base.py\u001B[0m in \u001B[0;36mcommit\u001B[1;34m(self)\u001B[0m\n\u001B[0;32m   1762\u001B[0m         \u001B[1;32mif\u001B[0m \u001B[1;32mnot\u001B[0m \u001B[0mself\u001B[0m\u001B[1;33m.\u001B[0m\u001B[0m_parent\u001B[0m\u001B[1;33m.\u001B[0m\u001B[0mis_active\u001B[0m\u001B[1;33m:\u001B[0m\u001B[1;33m\u001B[0m\u001B[1;33m\u001B[0m\u001B[0m\n\u001B[0;32m   1763\u001B[0m             \u001B[1;32mraise\u001B[0m \u001B[0mexc\u001B[0m\u001B[1;33m.\u001B[0m\u001B[0mInvalidRequestError\u001B[0m\u001B[1;33m(\u001B[0m\u001B[1;34m\"This transaction is inactive\"\u001B[0m\u001B[1;33m)\u001B[0m\u001B[1;33m\u001B[0m\u001B[1;33m\u001B[0m\u001B[0m\n\u001B[1;32m-> 1764\u001B[1;33m         \u001B[0mself\u001B[0m\u001B[1;33m.\u001B[0m\u001B[0m_do_commit\u001B[0m\u001B[1;33m(\u001B[0m\u001B[1;33m)\u001B[0m\u001B[1;33m\u001B[0m\u001B[1;33m\u001B[0m\u001B[0m\n\u001B[0m\u001B[0;32m   1765\u001B[0m         \u001B[0mself\u001B[0m\u001B[1;33m.\u001B[0m\u001B[0mis_active\u001B[0m \u001B[1;33m=\u001B[0m \u001B[1;32mFalse\u001B[0m\u001B[1;33m\u001B[0m\u001B[1;33m\u001B[0m\u001B[0m\n\u001B[0;32m   1766\u001B[0m \u001B[1;33m\u001B[0m\u001B[0m\n",
      "\u001B[1;32mc:\\python38\\lib\\site-packages\\sqlalchemy\\engine\\base.py\u001B[0m in \u001B[0;36m_do_commit\u001B[1;34m(self)\u001B[0m\n\u001B[0;32m   1793\u001B[0m     \u001B[1;32mdef\u001B[0m \u001B[0m_do_commit\u001B[0m\u001B[1;33m(\u001B[0m\u001B[0mself\u001B[0m\u001B[1;33m)\u001B[0m\u001B[1;33m:\u001B[0m\u001B[1;33m\u001B[0m\u001B[1;33m\u001B[0m\u001B[0m\n\u001B[0;32m   1794\u001B[0m         \u001B[1;32mif\u001B[0m \u001B[0mself\u001B[0m\u001B[1;33m.\u001B[0m\u001B[0mis_active\u001B[0m\u001B[1;33m:\u001B[0m\u001B[1;33m\u001B[0m\u001B[1;33m\u001B[0m\u001B[0m\n\u001B[1;32m-> 1795\u001B[1;33m             \u001B[0mself\u001B[0m\u001B[1;33m.\u001B[0m\u001B[0mconnection\u001B[0m\u001B[1;33m.\u001B[0m\u001B[0m_commit_impl\u001B[0m\u001B[1;33m(\u001B[0m\u001B[1;33m)\u001B[0m\u001B[1;33m\u001B[0m\u001B[1;33m\u001B[0m\u001B[0m\n\u001B[0m\u001B[0;32m   1796\u001B[0m \u001B[1;33m\u001B[0m\u001B[0m\n\u001B[0;32m   1797\u001B[0m \u001B[1;33m\u001B[0m\u001B[0m\n",
      "\u001B[1;32mc:\\python38\\lib\\site-packages\\sqlalchemy\\engine\\base.py\u001B[0m in \u001B[0;36m_commit_impl\u001B[1;34m(self, autocommit)\u001B[0m\n\u001B[0;32m    771\u001B[0m             \u001B[0mself\u001B[0m\u001B[1;33m.\u001B[0m\u001B[0mengine\u001B[0m\u001B[1;33m.\u001B[0m\u001B[0mdialect\u001B[0m\u001B[1;33m.\u001B[0m\u001B[0mdo_commit\u001B[0m\u001B[1;33m(\u001B[0m\u001B[0mself\u001B[0m\u001B[1;33m.\u001B[0m\u001B[0mconnection\u001B[0m\u001B[1;33m)\u001B[0m\u001B[1;33m\u001B[0m\u001B[1;33m\u001B[0m\u001B[0m\n\u001B[0;32m    772\u001B[0m         \u001B[1;32mexcept\u001B[0m \u001B[0mBaseException\u001B[0m \u001B[1;32mas\u001B[0m \u001B[0me\u001B[0m\u001B[1;33m:\u001B[0m\u001B[1;33m\u001B[0m\u001B[1;33m\u001B[0m\u001B[0m\n\u001B[1;32m--> 773\u001B[1;33m             \u001B[0mself\u001B[0m\u001B[1;33m.\u001B[0m\u001B[0m_handle_dbapi_exception\u001B[0m\u001B[1;33m(\u001B[0m\u001B[0me\u001B[0m\u001B[1;33m,\u001B[0m \u001B[1;32mNone\u001B[0m\u001B[1;33m,\u001B[0m \u001B[1;32mNone\u001B[0m\u001B[1;33m,\u001B[0m \u001B[1;32mNone\u001B[0m\u001B[1;33m,\u001B[0m \u001B[1;32mNone\u001B[0m\u001B[1;33m)\u001B[0m\u001B[1;33m\u001B[0m\u001B[1;33m\u001B[0m\u001B[0m\n\u001B[0m\u001B[0;32m    774\u001B[0m         \u001B[1;32mfinally\u001B[0m\u001B[1;33m:\u001B[0m\u001B[1;33m\u001B[0m\u001B[1;33m\u001B[0m\u001B[0m\n\u001B[0;32m    775\u001B[0m             if (\n",
      "\u001B[1;32mc:\\python38\\lib\\site-packages\\sqlalchemy\\engine\\base.py\u001B[0m in \u001B[0;36m_handle_dbapi_exception\u001B[1;34m(self, e, statement, parameters, cursor, context)\u001B[0m\n\u001B[0;32m   1512\u001B[0m                 )\n\u001B[0;32m   1513\u001B[0m             \u001B[1;32melse\u001B[0m\u001B[1;33m:\u001B[0m\u001B[1;33m\u001B[0m\u001B[1;33m\u001B[0m\u001B[0m\n\u001B[1;32m-> 1514\u001B[1;33m                 \u001B[0mutil\u001B[0m\u001B[1;33m.\u001B[0m\u001B[0mraise_\u001B[0m\u001B[1;33m(\u001B[0m\u001B[0mexc_info\u001B[0m\u001B[1;33m[\u001B[0m\u001B[1;36m1\u001B[0m\u001B[1;33m]\u001B[0m\u001B[1;33m,\u001B[0m \u001B[0mwith_traceback\u001B[0m\u001B[1;33m=\u001B[0m\u001B[0mexc_info\u001B[0m\u001B[1;33m[\u001B[0m\u001B[1;36m2\u001B[0m\u001B[1;33m]\u001B[0m\u001B[1;33m)\u001B[0m\u001B[1;33m\u001B[0m\u001B[1;33m\u001B[0m\u001B[0m\n\u001B[0m\u001B[0;32m   1515\u001B[0m \u001B[1;33m\u001B[0m\u001B[0m\n\u001B[0;32m   1516\u001B[0m         \u001B[1;32mfinally\u001B[0m\u001B[1;33m:\u001B[0m\u001B[1;33m\u001B[0m\u001B[1;33m\u001B[0m\u001B[0m\n",
      "\u001B[1;32mc:\\python38\\lib\\site-packages\\sqlalchemy\\util\\compat.py\u001B[0m in \u001B[0;36mraise_\u001B[1;34m(***failed resolving arguments***)\u001B[0m\n\u001B[0;32m    180\u001B[0m \u001B[1;33m\u001B[0m\u001B[0m\n\u001B[0;32m    181\u001B[0m         \u001B[1;32mtry\u001B[0m\u001B[1;33m:\u001B[0m\u001B[1;33m\u001B[0m\u001B[1;33m\u001B[0m\u001B[0m\n\u001B[1;32m--> 182\u001B[1;33m             \u001B[1;32mraise\u001B[0m \u001B[0mexception\u001B[0m\u001B[1;33m\u001B[0m\u001B[1;33m\u001B[0m\u001B[0m\n\u001B[0m\u001B[0;32m    183\u001B[0m         \u001B[1;32mfinally\u001B[0m\u001B[1;33m:\u001B[0m\u001B[1;33m\u001B[0m\u001B[1;33m\u001B[0m\u001B[0m\n\u001B[0;32m    184\u001B[0m             \u001B[1;31m# credit to\u001B[0m\u001B[1;33m\u001B[0m\u001B[1;33m\u001B[0m\u001B[1;33m\u001B[0m\u001B[0m\n",
      "\u001B[1;32mc:\\python38\\lib\\site-packages\\sqlalchemy\\engine\\base.py\u001B[0m in \u001B[0;36m_commit_impl\u001B[1;34m(self, autocommit)\u001B[0m\n\u001B[0;32m    769\u001B[0m             \u001B[0mself\u001B[0m\u001B[1;33m.\u001B[0m\u001B[0mengine\u001B[0m\u001B[1;33m.\u001B[0m\u001B[0mlogger\u001B[0m\u001B[1;33m.\u001B[0m\u001B[0minfo\u001B[0m\u001B[1;33m(\u001B[0m\u001B[1;34m\"COMMIT\"\u001B[0m\u001B[1;33m)\u001B[0m\u001B[1;33m\u001B[0m\u001B[1;33m\u001B[0m\u001B[0m\n\u001B[0;32m    770\u001B[0m         \u001B[1;32mtry\u001B[0m\u001B[1;33m:\u001B[0m\u001B[1;33m\u001B[0m\u001B[1;33m\u001B[0m\u001B[0m\n\u001B[1;32m--> 771\u001B[1;33m             \u001B[0mself\u001B[0m\u001B[1;33m.\u001B[0m\u001B[0mengine\u001B[0m\u001B[1;33m.\u001B[0m\u001B[0mdialect\u001B[0m\u001B[1;33m.\u001B[0m\u001B[0mdo_commit\u001B[0m\u001B[1;33m(\u001B[0m\u001B[0mself\u001B[0m\u001B[1;33m.\u001B[0m\u001B[0mconnection\u001B[0m\u001B[1;33m)\u001B[0m\u001B[1;33m\u001B[0m\u001B[1;33m\u001B[0m\u001B[0m\n\u001B[0m\u001B[0;32m    772\u001B[0m         \u001B[1;32mexcept\u001B[0m \u001B[0mBaseException\u001B[0m \u001B[1;32mas\u001B[0m \u001B[0me\u001B[0m\u001B[1;33m:\u001B[0m\u001B[1;33m\u001B[0m\u001B[1;33m\u001B[0m\u001B[0m\n\u001B[0;32m    773\u001B[0m             \u001B[0mself\u001B[0m\u001B[1;33m.\u001B[0m\u001B[0m_handle_dbapi_exception\u001B[0m\u001B[1;33m(\u001B[0m\u001B[0me\u001B[0m\u001B[1;33m,\u001B[0m \u001B[1;32mNone\u001B[0m\u001B[1;33m,\u001B[0m \u001B[1;32mNone\u001B[0m\u001B[1;33m,\u001B[0m \u001B[1;32mNone\u001B[0m\u001B[1;33m,\u001B[0m \u001B[1;32mNone\u001B[0m\u001B[1;33m)\u001B[0m\u001B[1;33m\u001B[0m\u001B[1;33m\u001B[0m\u001B[0m\n",
      "\u001B[1;32mc:\\python38\\lib\\site-packages\\sqlalchemy\\engine\\default.py\u001B[0m in \u001B[0;36mdo_commit\u001B[1;34m(self, dbapi_connection)\u001B[0m\n\u001B[0;32m    544\u001B[0m \u001B[1;33m\u001B[0m\u001B[0m\n\u001B[0;32m    545\u001B[0m     \u001B[1;32mdef\u001B[0m \u001B[0mdo_commit\u001B[0m\u001B[1;33m(\u001B[0m\u001B[0mself\u001B[0m\u001B[1;33m,\u001B[0m \u001B[0mdbapi_connection\u001B[0m\u001B[1;33m)\u001B[0m\u001B[1;33m:\u001B[0m\u001B[1;33m\u001B[0m\u001B[1;33m\u001B[0m\u001B[0m\n\u001B[1;32m--> 546\u001B[1;33m         \u001B[0mdbapi_connection\u001B[0m\u001B[1;33m.\u001B[0m\u001B[0mcommit\u001B[0m\u001B[1;33m(\u001B[0m\u001B[1;33m)\u001B[0m\u001B[1;33m\u001B[0m\u001B[1;33m\u001B[0m\u001B[0m\n\u001B[0m\u001B[0;32m    547\u001B[0m \u001B[1;33m\u001B[0m\u001B[0m\n\u001B[0;32m    548\u001B[0m     \u001B[1;32mdef\u001B[0m \u001B[0mdo_close\u001B[0m\u001B[1;33m(\u001B[0m\u001B[0mself\u001B[0m\u001B[1;33m,\u001B[0m \u001B[0mdbapi_connection\u001B[0m\u001B[1;33m)\u001B[0m\u001B[1;33m:\u001B[0m\u001B[1;33m\u001B[0m\u001B[1;33m\u001B[0m\u001B[0m\n",
      "\u001B[1;31mKeyboardInterrupt\u001B[0m: "
     ]
    }
   ],
   "source": [
    "# Process the dataframe\n",
    "# Note that after the very first attempt at this we need to test for whether the record already exist and then update the\n",
    "# date last found\n",
    "length = len(df)\n",
    "ctr = 0\n",
    "for index, row in df.iterrows():\n",
    "    \n",
    "    newdate = df._get_value(index, 'Date')\n",
    "    newdate = datetime.strptime(newdate, '%m/%d/%Y')\n",
    "    newAmount = df._get_value(index, 'Amount').replace('$', '').replace(',','')\n",
    "    newAmount = float(newAmount)\n",
    "\n",
    "    if len(str(df._get_value(index, 'Receipt 1'))) > 5:\n",
    "        newReceipt1 = df._get_value(index, 'Receipt 1')\n",
    "    else:\n",
    "        newReceipt1 = ''\n",
    "    if len(str(df._get_value(index, 'Receipt 2'))) > 5:\n",
    "        newReceipt2 = df._get_value(index, 'Receipt 2')\n",
    "    else:\n",
    "        newReceipt2 = ''\n",
    "    if len(str(df._get_value(index, 'Receipt 3'))) > 5:\n",
    "        newReceipt3 = df._get_value(index, 'Receipt 3')\n",
    "    else:\n",
    "        newReceipt3 = ''  \n",
    "    \n",
    "    expense = ExpensesRaw(\n",
    "        ministry=df._get_value(index, 'Ministry'),\n",
    "        position=df._get_value(index, 'Position'),\n",
    "        name=df._get_value(index, 'Name'),\n",
    "        type=df._get_value(index, 'Type'),\n",
    "        category=df._get_value(index, 'Category'),\n",
    "        expense_date=newdate,\n",
    "        amount=newAmount,\n",
    "        description=df._get_value(index, 'Description'),\n",
    "        receipt1=newReceipt1,\n",
    "        receipt2=newReceipt2,\n",
    "        receipt3=newReceipt3,\n",
    "        date_last_found=datetime.now(),\n",
    "        created_at=datetime.now(),\n",
    "        updated_at=datetime.now(),\n",
    "    )\n",
    "    \n",
    "#     qry = session.query(ExpensesRaw)\n",
    "#     qry = qry.filter(\n",
    "#                      ExpensesRaw.ministry==df._get_value(index, 'Ministry'),\n",
    "#                      ExpensesRaw.position==df._get_value(index, 'Position'),\n",
    "#                      ExpensesRaw.name==df._get_value(index, 'Name'),\n",
    "#                      ExpensesRaw.type==df._get_value(index, 'Type'),\n",
    "#                      ExpensesRaw.category==df._get_value(index, 'Category'),\n",
    "#                      ExpensesRaw.expense_date==newdate,\n",
    "#                      ExpensesRaw.amount==newAmount,\n",
    "#                      ExpensesRaw.description==df._get_value(index, 'Description'),\n",
    "#                      ExpensesRaw.receipt1==df._get_value(index, 'Receipt 1'),\n",
    "#                      ExpensesRaw.receipt2==df._get_value(index, 'Receipt 2'),\n",
    "#                      ExpensesRaw.receipt3==df._get_value(index, 'Receipt 3')\n",
    "#                     ).first()\n",
    "#     print('Query', qry)\n",
    "    \n",
    "    if ctr % 100 == 0:\n",
    "        print('Count: %s of %s ' %(ctr, length))\n",
    "    \n",
    "    ctr = ctr + 1\n",
    "    \n",
    "    try:\n",
    "        session.add(expense)\n",
    "        session.commit()\n",
    "    except SQLAlchemyError as e:\n",
    "#         error = str(e.__dict__['orig'])\n",
    "        session.rollback()\n",
    "        print('Could not save the new expense %s',\n",
    "              expense)\n",
    "#         print(error)\n",
    "   "
   ]
  },
  {
   "cell_type": "code",
   "execution_count": null,
   "metadata": {},
   "outputs": [],
   "source": [
    "print(df.head())"
   ]
  }
 ],
 "metadata": {
  "kernelspec": {
   "display_name": "Python 3",
   "language": "python",
   "name": "python3"
  },
  "language_info": {
   "codemirror_mode": {
    "name": "ipython",
    "version": 3
   },
   "file_extension": ".py",
   "mimetype": "text/x-python",
   "name": "python",
   "nbconvert_exporter": "python",
   "pygments_lexer": "ipython3",
   "version": "3.8.3"
  }
 },
 "nbformat": 4,
 "nbformat_minor": 1
}